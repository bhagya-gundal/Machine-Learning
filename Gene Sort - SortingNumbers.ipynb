{
 "cells": [
  {
   "cell_type": "markdown",
   "metadata": {},
   "source": [
    "# To sort number using genetic algorithm  "
   ]
  },
  {
   "cell_type": "markdown",
   "metadata": {},
   "source": [
    "<div style=\"text-align: justify\">Here, we will explore the problem of generating highquality sorting routines. A difference between sorting and\n",
    "the algorithms implemented by the library generators just\n",
    "mentioned is that the performance of the algorithms they\n",
    "implement is completely determined by the characteristics\n",
    "of the target machine and the size of the input data, but not\n",
    "by other characteristics of the input data. However, in the\n",
    "case of sorting, performance also depends on other factors\n",
    "such as the distribution of the data to be sorted. In fact, as\n",
    "discussed below, merge sort performs very well\n",
    "on some classes of input data sets while bubble sort performs poorly on these sets. </div>"
   ]
  },
  {
   "cell_type": "code",
   "execution_count": 35,
   "metadata": {},
   "outputs": [],
   "source": [
    "import random\n",
    "import statistics\n",
    "import sys\n",
    "import time\n",
    "\n",
    "def _generate_parent(length, geneSet, get_fitness):\n",
    "    genes = []\n",
    "    while len(genes) < length:\n",
    "        sampleSize = min(length - len(genes), len(geneSet))\n",
    "        genes.extend(random.sample(geneSet, sampleSize))\n",
    "    fitness = get_fitness(genes)\n",
    "    return Chromosome(genes, fitness)\n",
    "\n",
    "def _mutate(parent, geneSet, get_fitness):\n",
    "    childGenes = parent.Genes[:]\n",
    "    index = random.randrange(0, len(parent.Genes))\n",
    "    newGene, alternate = random.sample(geneSet, 2)\n",
    "    childGenes[index] = alternate if newGene == childGenes[index] else newGene\n",
    "    fitness = get_fitness(childGenes)\n",
    "    return Chromosome(childGenes, fitness)\n",
    "\n",
    "\n",
    "\"\"\"_get_best will be displaying improvements and breaking the infinite looping of sequences.\n",
    "   It will keep the sequences which are better than parent\n",
    "   We compare a Chromosome's fitness with the optimal fitness in the engine and only use greater-than comparisons.\n",
    "\n",
    "\"\"\"\n",
    "def _get_best(get_fitness, targetLen, optimalFitness, geneSet, display):\n",
    "    random.seed()\n",
    "\n",
    "    def fnMutate(parent):\n",
    "        return _mutate(parent, geneSet, get_fitness)\n",
    "\n",
    "    def fnGenerateParent():\n",
    "        return _generate_parent(targetLen, geneSet, get_fitness)\n",
    "\n",
    "    for improvement in _get_improvement(fnMutate, fnGenerateParent):\n",
    "        display(improvement)\n",
    "        if not optimalFitness > improvement.Fitness:\n",
    "            return improvement\n",
    "\n",
    "\"\"\"We need to pass an instance of Fitness to _get_best as the optimal value\n",
    "Better gene sequences will be sent back to _get_best via yield. \"\"\"\n",
    "def _get_improvement(new_child, generate_parent):\n",
    "    bestParent = generate_parent()\n",
    "    yield bestParent\n",
    "    while True:\n",
    "        child = new_child(bestParent)\n",
    "        if bestParent.Fitness > child.Fitness:\n",
    "            continue\n",
    "        if not child.Fitness > bestParent.Fitness:\n",
    "            bestParent = child\n",
    "            continue\n",
    "        yield child\n",
    "        bestParent = child\n",
    "\n",
    "\n",
    "class Chromosome:\n",
    "    Genes = None\n",
    "    Fitness = None\n",
    "    \n",
    "    def __init__(self, genes, fitness):\n",
    "        self.Genes = genes\n",
    "        self.Fitness = fitness"
   ]
  },
  {
   "cell_type": "code",
   "execution_count": 36,
   "metadata": {},
   "outputs": [],
   "source": [
    "import datetime\n",
    "\n",
    "\"\"\"In get_fitness we need to return an instance of Fitness\n",
    "#This function should return the count of adjacent numbers if they are already in sorted(ascending) order \"\"\"\n",
    "def get_fitness(genes):\n",
    "    fitness = 1\n",
    "    gap = 0\n",
    "\n",
    "    for i in range(1, len(genes)):\n",
    "        if genes[i] > genes[i-1]:\n",
    "            fitness += 1\n",
    "        else:\n",
    "            gap += genes[i - 1] - genes[i]\n",
    "    return Fitness(fitness, gap)\n",
    "\n",
    "\n",
    "def display(candidate, startTime):\n",
    "    timeDiff = datetime.datetime.now() - startTime\n",
    "    print(\"{0}\\t=> {1}\\t{2}\".format(\n",
    "        ', '.join(map(str, candidate.Genes)),\n",
    "        candidate.Fitness,\n",
    "        timeDiff))\n",
    "\n",
    "#this is the engine to produce 10 sorted numbers.\n",
    "  \n",
    "class SortNumbers():\n",
    "    def sort_numbers(self):\n",
    "        self.sort_numbers_10(10)\n",
    "\n",
    "    def sort_numbers_10(self, totalNumbers):\n",
    "        #The geneset is in the range 0 to 99. \n",
    "        geneset = [i for i in range(100)]\n",
    "        startTime = datetime.datetime.now()\n",
    "\n",
    "\n",
    "        #The display function will output the array values separated by a commas.\n",
    "        def fnDisplay(candidate):\n",
    "            display(candidate, startTime)\n",
    "        \n",
    "        #The fitness function will return a count of the adjacent numbers that are in ascending order with 1 freebie \n",
    "        def fnGetFitness(genes):\n",
    "            return get_fitness(genes)\n",
    "\n",
    "        optimalFitness = Fitness(totalNumbers, 0)\n",
    "        best = _get_best(fnGetFitness, totalNumbers, optimalFitness,\n",
    "                                geneset, fnDisplay)\n",
    "    \n",
    "class Fitness:\n",
    "    Numbers = None\n",
    "    TotalGap = None\n",
    "    def __init__(self, numbers, totalGap):\n",
    "        self.Numbers = numbers\n",
    "        self.TotalGap = totalGap\n",
    "\n",
    "    def __gt__(self, other):\n",
    "        if self.Numbers != other.Numbers:\n",
    "            return self.Numbers > other.Numbers\n",
    "        return self.TotalGap < other.TotalGap\n",
    "\n",
    "    def __str__(self):\n",
    "        #Fitness object will convert itself to a string for display:\n",
    "        return \"{0} Sequential, {1} Total Gap.\".format(\n",
    "            self.Numbers,\n",
    "            self.TotalGap)"
   ]
  },
  {
   "cell_type": "code",
   "execution_count": 61,
   "metadata": {
    "scrolled": true
   },
   "outputs": [
    {
     "name": "stdout",
     "output_type": "stream",
     "text": [
      "88, 57, 78, 95, 20, 66, 45, 15, 54, 25\t=> 5 Sequential, 186 Total Gap.\t0:00:00.000357\n",
      "88, 57, 78, 95, 20, 63, 45, 15, 54, 25\t=> 5 Sequential, 183 Total Gap.\t0:00:00.000460\n",
      "88, 91, 78, 95, 20, 63, 45, 15, 54, 25\t=> 5 Sequential, 165 Total Gap.\t0:00:00.000539\n",
      "88, 91, 80, 95, 20, 63, 45, 15, 54, 25\t=> 5 Sequential, 163 Total Gap.\t0:00:00.000637\n",
      "88, 91, 80, 95, 20, 62, 45, 15, 54, 25\t=> 5 Sequential, 162 Total Gap.\t0:00:00.000706\n",
      "88, 91, 80, 95, 20, 62, 83, 15, 54, 25\t=> 6 Sequential, 183 Total Gap.\t0:00:00.000754\n",
      "88, 91, 80, 7, 20, 62, 83, 15, 54, 25\t=> 6 Sequential, 181 Total Gap.\t0:00:00.000792\n",
      "88, 91, 80, 7, 20, 62, 83, 15, 54, 26\t=> 6 Sequential, 180 Total Gap.\t0:00:00.000835\n",
      "88, 91, 7, 7, 20, 62, 83, 15, 54, 64\t=> 7 Sequential, 152 Total Gap.\t0:00:00.000895\n",
      "88, 91, 7, 7, 20, 62, 80, 15, 54, 64\t=> 7 Sequential, 149 Total Gap.\t0:00:00.000970\n",
      "66, 91, 6, 7, 60, 70, 80, 15, 26, 64\t=> 8 Sequential, 150 Total Gap.\t0:00:00.001286\n",
      "66, 91, 6, 33, 60, 70, 80, 16, 26, 64\t=> 8 Sequential, 149 Total Gap.\t0:00:00.001354\n",
      "48, 91, 31, 33, 55, 70, 80, 16, 20, 64\t=> 8 Sequential, 124 Total Gap.\t0:00:00.001480\n",
      "67, 91, 92, 33, 35, 66, 80, 16, 33, 57\t=> 8 Sequential, 123 Total Gap.\t0:00:00.001680\n",
      "78, 89, 92, 33, 35, 71, 79, 16, 22, 89\t=> 8 Sequential, 122 Total Gap.\t0:00:00.002198\n",
      "78, 89, 92, 93, 35, 71, 79, 16, 22, 69\t=> 8 Sequential, 121 Total Gap.\t0:00:00.002285\n",
      "78, 89, 92, 93, 94, 71, 79, 16, 22, 69\t=> 8 Sequential, 86 Total Gap.\t0:00:00.002400\n",
      "78, 90, 92, 93, 94, 71, 79, 18, 26, 69\t=> 8 Sequential, 84 Total Gap.\t0:00:00.002494\n",
      "50, 90, 92, 93, 94, 95, 79, 18, 26, 69\t=> 8 Sequential, 77 Total Gap.\t0:00:00.002660\n",
      "84, 90, 92, 93, 94, 95, 37, 29, 66, 70\t=> 8 Sequential, 66 Total Gap.\t0:00:00.003459\n",
      "8, 90, 92, 93, 94, 95, 37, 33, 66, 70\t=> 8 Sequential, 62 Total Gap.\t0:00:00.003726\n",
      "8, 90, 92, 93, 94, 95, 89, 45, 66, 70\t=> 8 Sequential, 50 Total Gap.\t0:00:00.003798\n",
      "40, 90, 92, 93, 94, 95, 75, 58, 78, 86\t=> 8 Sequential, 37 Total Gap.\t0:00:00.004033\n",
      "40, 90, 92, 93, 94, 95, 75, 71, 78, 86\t=> 8 Sequential, 24 Total Gap.\t0:00:00.004079\n",
      "39, 90, 92, 93, 94, 95, 4, 71, 78, 86\t=> 9 Sequential, 91 Total Gap.\t0:00:00.004211\n",
      "69, 90, 92, 93, 94, 95, 14, 71, 78, 98\t=> 9 Sequential, 81 Total Gap.\t0:00:00.004363\n",
      "69, 90, 92, 93, 94, 95, 33, 71, 78, 98\t=> 9 Sequential, 62 Total Gap.\t0:00:00.004406\n",
      "0, 45, 74, 93, 94, 95, 39, 44, 78, 82\t=> 9 Sequential, 56 Total Gap.\t0:00:00.005169\n",
      "1, 38, 65, 77, 85, 36, 39, 41, 71, 89\t=> 9 Sequential, 49 Total Gap.\t0:00:00.007443\n",
      "1, 48, 72, 77, 35, 36, 39, 42, 63, 89\t=> 9 Sequential, 42 Total Gap.\t0:00:00.008057\n",
      "1, 41, 52, 63, 35, 58, 66, 70, 76, 82\t=> 9 Sequential, 28 Total Gap.\t0:00:00.008884\n",
      "17, 21, 52, 63, 37, 44, 66, 70, 76, 82\t=> 9 Sequential, 26 Total Gap.\t0:00:00.009003\n",
      "17, 21, 52, 63, 43, 45, 61, 70, 76, 82\t=> 9 Sequential, 20 Total Gap.\t0:00:00.009160\n",
      "20, 21, 52, 56, 43, 44, 61, 70, 76, 96\t=> 9 Sequential, 13 Total Gap.\t0:00:00.009355\n",
      "6, 39, 41, 43, 43, 46, 47, 71, 76, 87\t=> 9 Sequential, 0 Total Gap.\t0:00:00.009998\n",
      "30, 32, 37, 41, 43, 46, 51, 73, 82, 98\t=> 10 Sequential, 0 Total Gap.\t0:00:00.012272\n",
      "CPU times: user 12 ms, sys: 2.16 ms, total: 14.2 ms\n",
      "Wall time: 12.4 ms\n"
     ]
    }
   ],
   "source": [
    "%%time\n",
    "start = SortNumbers()\n",
    "start.sort_numbers()"
   ]
  },
  {
   "cell_type": "raw",
   "metadata": {},
   "source": [
    "Output of Genetic Alogorithm\n",
    "\n",
    "88, 57, 78, 95, 20, 66, 45, 15, 54, 25\t=> 5 Sequential, 186 Total Gap.\t0:00:00.000357\n",
    "88, 57, 78, 95, 20, 63, 45, 15, 54, 25\t=> 5 Sequential, 183 Total Gap.\t0:00:00.000460\n",
    "88, 91, 78, 95, 20, 63, 45, 15, 54, 25\t=> 5 Sequential, 165 Total Gap.\t0:00:00.000539\n",
    "88, 91, 80, 95, 20, 63, 45, 15, 54, 25\t=> 5 Sequential, 163 Total Gap.\t0:00:00.000637\n",
    "88, 91, 80, 95, 20, 62, 45, 15, 54, 25\t=> 5 Sequential, 162 Total Gap.\t0:00:00.000706\n",
    "88, 91, 80, 95, 20, 62, 83, 15, 54, 25\t=> 6 Sequential, 183 Total Gap.\t0:00:00.000754\n",
    "88, 91, 80, 7, 20, 62, 83, 15, 54, 25\t=> 6 Sequential, 181 Total Gap.\t0:00:00.000792\n",
    "88, 91, 80, 7, 20, 62, 83, 15, 54, 26\t=> 6 Sequential, 180 Total Gap.\t0:00:00.000835\n",
    "88, 91, 7, 7, 20, 62, 83, 15, 54, 64\t=> 7 Sequential, 152 Total Gap.\t0:00:00.000895\n",
    "88, 91, 7, 7, 20, 62, 80, 15, 54, 64\t=> 7 Sequential, 149 Total Gap.\t0:00:00.000970\n",
    "66, 91, 6, 7, 60, 70, 80, 15, 26, 64\t=> 8 Sequential, 150 Total Gap.\t0:00:00.001286\n",
    "66, 91, 6, 33, 60, 70, 80, 16, 26, 64\t=> 8 Sequential, 149 Total Gap.\t0:00:00.001354\n",
    "48, 91, 31, 33, 55, 70, 80, 16, 20, 64\t=> 8 Sequential, 124 Total Gap.\t0:00:00.001480\n",
    "67, 91, 92, 33, 35, 66, 80, 16, 33, 57\t=> 8 Sequential, 123 Total Gap.\t0:00:00.001680\n",
    "78, 89, 92, 33, 35, 71, 79, 16, 22, 89\t=> 8 Sequential, 122 Total Gap.\t0:00:00.002198\n",
    "78, 89, 92, 93, 35, 71, 79, 16, 22, 69\t=> 8 Sequential, 121 Total Gap.\t0:00:00.002285\n",
    "78, 89, 92, 93, 94, 71, 79, 16, 22, 69\t=> 8 Sequential, 86 Total Gap.\t0:00:00.002400\n",
    "78, 90, 92, 93, 94, 71, 79, 18, 26, 69\t=> 8 Sequential, 84 Total Gap.\t0:00:00.002494\n",
    "50, 90, 92, 93, 94, 95, 79, 18, 26, 69\t=> 8 Sequential, 77 Total Gap.\t0:00:00.002660\n",
    "84, 90, 92, 93, 94, 95, 37, 29, 66, 70\t=> 8 Sequential, 66 Total Gap.\t0:00:00.003459\n",
    "8, 90, 92, 93, 94, 95, 37, 33, 66, 70\t=> 8 Sequential, 62 Total Gap.\t0:00:00.003726\n",
    "8, 90, 92, 93, 94, 95, 89, 45, 66, 70\t=> 8 Sequential, 50 Total Gap.\t0:00:00.003798\n",
    "40, 90, 92, 93, 94, 95, 75, 58, 78, 86\t=> 8 Sequential, 37 Total Gap.\t0:00:00.004033\n",
    "40, 90, 92, 93, 94, 95, 75, 71, 78, 86\t=> 8 Sequential, 24 Total Gap.\t0:00:00.004079\n",
    "39, 90, 92, 93, 94, 95, 4, 71, 78, 86\t=> 9 Sequential, 91 Total Gap.\t0:00:00.004211\n",
    "69, 90, 92, 93, 94, 95, 14, 71, 78, 98\t=> 9 Sequential, 81 Total Gap.\t0:00:00.004363\n",
    "69, 90, 92, 93, 94, 95, 33, 71, 78, 98\t=> 9 Sequential, 62 Total Gap.\t0:00:00.004406\n",
    "0, 45, 74, 93, 94, 95, 39, 44, 78, 82\t=> 9 Sequential, 56 Total Gap.\t0:00:00.005169\n",
    "1, 38, 65, 77, 85, 36, 39, 41, 71, 89\t=> 9 Sequential, 49 Total Gap.\t0:00:00.007443\n",
    "1, 48, 72, 77, 35, 36, 39, 42, 63, 89\t=> 9 Sequential, 42 Total Gap.\t0:00:00.008057\n",
    "1, 41, 52, 63, 35, 58, 66, 70, 76, 82\t=> 9 Sequential, 28 Total Gap.\t0:00:00.008884\n",
    "17, 21, 52, 63, 37, 44, 66, 70, 76, 82\t=> 9 Sequential, 26 Total Gap.\t0:00:00.009003\n",
    "17, 21, 52, 63, 43, 45, 61, 70, 76, 82\t=> 9 Sequential, 20 Total Gap.\t0:00:00.009160\n",
    "20, 21, 52, 56, 43, 44, 61, 70, 76, 96\t=> 9 Sequential, 13 Total Gap.\t0:00:00.009355\n",
    "6, 39, 41, 43, 43, 46, 47, 71, 76, 87\t=> 9 Sequential, 0 Total Gap.\t0:00:00.009998\n",
    "30, 32, 37, 41, 43, 46, 51, 73, 82, 98\t=> 10 Sequential, 0 Total Gap.\t0:00:00.012272\n",
    "CPU times: user 12 ms, sys: 2.16 ms, total: 14.2 ms\n",
    "Wall time: 12.4 ms"
   ]
  },
  {
   "cell_type": "markdown",
   "metadata": {},
   "source": [
    "# Print Sort Result"
   ]
  },
  {
   "cell_type": "code",
   "execution_count": 69,
   "metadata": {},
   "outputs": [
    {
     "data": {
      "text/plain": [
       "[1, 9, 22, 33, 50, 58, 66, 76, 81, 86]"
      ]
     },
     "execution_count": 69,
     "metadata": {},
     "output_type": "execute_result"
    }
   ],
   "source": [
    "genes "
   ]
  },
  {
   "cell_type": "code",
   "execution_count": 70,
   "metadata": {},
   "outputs": [],
   "source": [
    "def bubble_sort(alist):\n",
    "    for passnum in range(len(alist)-1, 0, -1):\n",
    "        for i in range(passnum):\n",
    "            if alist[i] > alist[i+1]:\n",
    "                temp = alist[i]\n",
    "                alist[i] = alist[i+1]\n",
    "                alist[i+1] = temp"
   ]
  },
  {
   "cell_type": "code",
   "execution_count": 71,
   "metadata": {
    "scrolled": true
   },
   "outputs": [
    {
     "name": "stdout",
     "output_type": "stream",
     "text": [
      "CPU times: user 68 µs, sys: 1e+03 ns, total: 69 µs\n",
      "Wall time: 73.9 µs\n"
     ]
    },
    {
     "data": {
      "text/plain": [
       "'1,9,22,33,50,58,66,76,81,86'"
      ]
     },
     "execution_count": 71,
     "metadata": {},
     "output_type": "execute_result"
    }
   ],
   "source": [
    "%%time\n",
    "bubble_sort(genes)\n",
    "','.join([str(x) for x in genes[0:100]])"
   ]
  },
  {
   "cell_type": "raw",
   "metadata": {},
   "source": [
    "Output for Bubble Sort\n",
    "\n",
    "CPU times: user 68 µs, sys: 1e+03 ns, total: 69 µs\n",
    "Wall time: 73.9 µs\n",
    "Out[71]:\n",
    "'1,9,22,33,50,58,66,76,81,86'"
   ]
  },
  {
   "cell_type": "code",
   "execution_count": 72,
   "metadata": {},
   "outputs": [],
   "source": [
    "def merge_sort(alist):\n",
    "   \n",
    "    \n",
    "    if len(alist) > 1:\n",
    "        mid = len(alist)//2\n",
    "        lefthalf = alist[:mid]\n",
    "        righthalf = alist[mid:]\n",
    "        \n",
    "        merge_sort(lefthalf)\n",
    "        merge_sort(righthalf)\n",
    "        \n",
    "        i = 0\n",
    "        j = 0\n",
    "        k = 0\n",
    "        \n",
    "        while i < len(lefthalf) and j < len(righthalf):\n",
    "            if lefthalf[i] < righthalf[j]:\n",
    "                alist[k] = lefthalf[i]\n",
    "                i += 1\n",
    "            else:\n",
    "                alist[k] = righthalf[j]\n",
    "                j += 1\n",
    "                \n",
    "            k += 1\n",
    "                \n",
    "        while i < len(lefthalf):\n",
    "            alist[k] = lefthalf[i]\n",
    "            i += 1\n",
    "            k += 1\n",
    "            \n",
    "        while j < len(righthalf):\n",
    "            alist[k] = righthalf[j]\n",
    "            j += 1\n",
    "            k += 1"
   ]
  },
  {
   "cell_type": "code",
   "execution_count": 73,
   "metadata": {},
   "outputs": [
    {
     "name": "stdout",
     "output_type": "stream",
     "text": [
      "CPU times: user 84 µs, sys: 2 µs, total: 86 µs\n",
      "Wall time: 89.2 µs\n"
     ]
    },
    {
     "data": {
      "text/plain": [
       "'1,9,22,33,50,58,66,76,81,86'"
      ]
     },
     "execution_count": 73,
     "metadata": {},
     "output_type": "execute_result"
    }
   ],
   "source": [
    "%%time\n",
    "merge_sort(genes)\n",
    "','.join([str(x) for x in genes[0:100]])"
   ]
  },
  {
   "cell_type": "raw",
   "metadata": {},
   "source": [
    "Output for Merge Sort\n",
    "\n",
    "CPU times: user 84 µs, sys: 2 µs, total: 86 µs\n",
    "Wall time: 89.2 µs\n",
    "Out[73]:\n",
    "'1,9,22,33,50,58,66,76,81,86'"
   ]
  },
  {
   "cell_type": "markdown",
   "metadata": {},
   "source": [
    "# Conclusion"
   ]
  },
  {
   "cell_type": "markdown",
   "metadata": {},
   "source": [
    "<div style=\"text-align: justify\"> We created sorting models using Genetic Sort, Bubble Sort and Mergesort.  Genetic algorithms\n",
    "can be easily used to search in this space for the most appropriate tree shape and parameter values. Genetic algorithms preserve the best subtrees and give\n",
    "those subtrees more chances to reproduce. Sorting algorithms can take advantage of this since a sub-tree is also a\n",
    "sorting algorithm.</div>"
   ]
  }
 ],
 "metadata": {
  "kernelspec": {
   "display_name": "Python 3",
   "language": "python",
   "name": "python3"
  },
  "language_info": {
   "codemirror_mode": {
    "name": "ipython",
    "version": 3
   },
   "file_extension": ".py",
   "mimetype": "text/x-python",
   "name": "python",
   "nbconvert_exporter": "python",
   "pygments_lexer": "ipython3",
   "version": "3.7.3"
  }
 },
 "nbformat": 4,
 "nbformat_minor": 2
}
